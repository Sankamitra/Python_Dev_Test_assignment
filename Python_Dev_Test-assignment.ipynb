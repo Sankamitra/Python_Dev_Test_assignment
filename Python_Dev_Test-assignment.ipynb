{
 "cells": [
  {
   "cell_type": "code",
   "execution_count": 1,
   "id": "082f1fe6",
   "metadata": {},
   "outputs": [
    {
     "name": "stdout",
     "output_type": "stream",
     "text": [
      "1\n",
      "4\n",
      "9\n",
      "16\n",
      "25\n",
      "36\n",
      "The sequence has ended\n"
     ]
    }
   ],
   "source": [
    "# Question 1. \n",
    "\n",
    "A=[1,2,3,4,5,6]\n",
    "for i in A:\n",
    "     print(i*i)\n",
    "print(\"The sequence has ended\")"
   ]
  },
  {
   "cell_type": "code",
   "execution_count": 12,
   "id": "8e6b8e14",
   "metadata": {},
   "outputs": [
    {
     "name": "stdout",
     "output_type": "stream",
     "text": [
      "* * * * * \n",
      " * * * * \n",
      "  * * * \n",
      "   * * \n",
      "    * \n",
      "    - \n",
      "   - - \n",
      "  - - - \n",
      " - - - - \n",
      "- - - - - \n"
     ]
    }
   ],
   "source": [
    "# Question 2\n",
    "\n",
    "rows = 5\n",
    "i = 0\n",
    "while i <= rows - 1:\n",
    "    j = 0\n",
    "    while j < i:\n",
    "        # display space\n",
    "        print('', end=' ')\n",
    "        j += 1\n",
    "    k = i\n",
    "    while k <= rows - 1:\n",
    "        print('*', end=' ')\n",
    "        k += 1\n",
    "    print()\n",
    "    i += 1\n",
    "\n",
    "i = rows - 1\n",
    "while i >= 0:\n",
    "    j = 0\n",
    "    while j < i:\n",
    "        print('', end=' ')\n",
    "        j += 1\n",
    "    k = i\n",
    "    while k <= rows - 1:\n",
    "        print('-', end=' ')\n",
    "        k += 1\n",
    "    print('')\n",
    "    i -= 1\n"
   ]
  },
  {
   "cell_type": "code",
   "execution_count": 13,
   "id": "8f7c68f3",
   "metadata": {},
   "outputs": [
    {
     "name": "stdout",
     "output_type": "stream",
     "text": [
      "* * * * * \n",
      " * * * * \n",
      "  * * * \n",
      "   * * \n",
      "    * \n"
     ]
    }
   ],
   "source": [
    "rows = 5\n",
    "i = 0\n",
    "while i <= rows - 1:\n",
    "    j = 0\n",
    "    while j < i:\n",
    "        # display space\n",
    "        print('', end=' ')\n",
    "        j += 1\n",
    "    k = i\n",
    "    while k <= rows - 1:\n",
    "        print('*', end=' ')\n",
    "        k += 1\n",
    "    print()\n",
    "    i += 1"
   ]
  },
  {
   "cell_type": "code",
   "execution_count": 49,
   "id": "94b4d4dd",
   "metadata": {},
   "outputs": [
    {
     "name": "stdout",
     "output_type": "stream",
     "text": [
      "t_1 : (1, 4, 9, 16, 25, 36)\n",
      "t_modified : (1, 16, 81, 256, 625, 1296)\n",
      "Element at index postiion 4 of t_modified: 625\n",
      "t_sliced: [16, 81, 256]\n"
     ]
    }
   ],
   "source": [
    "# Question 3  \n",
    "\n",
    "t_1 = (1, 4, 9, 16, 25, 36)\n",
    "print(\"t_1 :\", t_1)\n",
    "t_modified=list(t_1)\n",
    "for i in range(len(t_modified)): \n",
    "    t_modified[i]=t_modified[i]**2 \n",
    "print(\"t_modified :\",tuple(t_modified))\n",
    "print(\"Element at index postiion 4 of t_modified:\",t_modified[-2])\n",
    "print(\"t_sliced:\",t_modified[1:4])\n",
    "\n"
   ]
  },
  {
   "cell_type": "code",
   "execution_count": 50,
   "id": "0ea5cb59",
   "metadata": {},
   "outputs": [
    {
     "ename": "TypeError",
     "evalue": "'tuple' object does not support item assignment",
     "output_type": "error",
     "traceback": [
      "\u001b[1;31m---------------------------------------------------------------------------\u001b[0m",
      "\u001b[1;31mTypeError\u001b[0m                                 Traceback (most recent call last)",
      "Input \u001b[1;32mIn [50]\u001b[0m, in \u001b[0;36m<cell line: 2>\u001b[1;34m()\u001b[0m\n\u001b[0;32m      1\u001b[0m \u001b[38;5;28mtuple\u001b[39m\u001b[38;5;241m=\u001b[39m(\u001b[38;5;241m10\u001b[39m,\u001b[38;5;241m20\u001b[39m,\u001b[38;5;241m30\u001b[39m,\u001b[38;5;241m40\u001b[39m,\u001b[38;5;241m50\u001b[39m)\n\u001b[1;32m----> 2\u001b[0m \u001b[38;5;28mtuple\u001b[39m[\u001b[38;5;241m2\u001b[39m]\u001b[38;5;241m=\u001b[39m\u001b[38;5;241m100\u001b[39m\n",
      "\u001b[1;31mTypeError\u001b[0m: 'tuple' object does not support item assignment"
     ]
    }
   ],
   "source": [
    "# Question 4\n",
    "\n",
    "tuple=(10,20,30,40,50)\n",
    "tuple[2]=100\n"
   ]
  },
  {
   "cell_type": "markdown",
   "id": "db5a8a7a",
   "metadata": {},
   "source": [
    "Tuple in python is immutable. But the tuple consists of a sequence of names with unchangeable bindings to objects. \n",
    "The tuple consists of a string and a list. Strings are immutable so we can't change its value.\n",
    "EXAMPLE:(10,20,30,40,50)\n",
    "These tuples are an ordered collection of elements of different data types. Furthermore, we represent them by Updating the elements inside the parenthesis. We can also define tuples as lists that we cannot change. Therefore, we can call them immutable tuples."
   ]
  },
  {
   "cell_type": "code",
   "execution_count": 76,
   "id": "da77356a",
   "metadata": {},
   "outputs": [
    {
     "name": "stdout",
     "output_type": "stream",
     "text": [
      "frozen_set_1: frozenset({'C', 'A', 'B', 'D'})\n",
      "frozen_set_2: frozenset({'C', 'A', 2, 4})\n",
      "frozenset.union: frozenset({2, 4, 'C', 'A', 'D', 'B'})\n",
      "frozenset.common: frozenset({'C', 'A'})\n",
      "frozenset.difference: frozenset({'D', 'B'})\n",
      "frozenset.distinct: frozenset({2, 4, 'D', 'B'})\n"
     ]
    }
   ],
   "source": [
    "# Question 5\n",
    "\n",
    "letters = ('A', 'B', 'C', 'D')  \n",
    "fSet = frozenset(letters)  \n",
    "print('frozen_set_1:', fSet)\n",
    "\n",
    "x = ('A', 2, 'C', 4)\n",
    "fx = frozenset(x)\n",
    "print('frozen_set_2:', fx)\n",
    "\n",
    "\n",
    "frozen1 = frozenset(['A', 'B', 'C', 'D'])\n",
    "frozen2 = frozenset(['A', 2, 'C', 4])\n",
    "frozenUnion = frozen1.union(frozen2)\n",
    "print('frozenset.union:', frozenUnion)\n",
    "\n",
    "frozen1 = frozenset(['A', 'B', 'C', 'D'])\n",
    "frozen2 = frozenset(['A', 2, 'C', 4])\n",
    "frozenCommon = frozen1.intersection(frozen2)\n",
    "print('frozenset.common:', frozenCommon)\n",
    "\n",
    "frozen1 = frozenset(['A', 'B', 'C', 'D'])\n",
    "frozen2 = frozenset(['A', 2, 'C', 4])\n",
    "frozenDifference = frozen1.difference(frozen2)\n",
    "print('frozenset.difference:', frozenDifference)\n",
    "\n",
    "frozen1 = frozenset(['A', 'B', 'C', 'D'])\n",
    "frozen2 = frozenset(['A', 2, 'C', 4])\n",
    "frozenDistinct = frozen1.symmetric_difference(frozen2)\n",
    "print('frozenset.distinct:', frozenDistinct)"
   ]
  },
  {
   "cell_type": "code",
   "execution_count": 20,
   "id": "f95bf6a7",
   "metadata": {},
   "outputs": [
    {
     "name": "stdout",
     "output_type": "stream",
     "text": [
      "['tree', 'under', 'price']\n"
     ]
    }
   ],
   "source": [
    "# Question 6\n",
    "def remove_words(list1, remove_items):    \n",
    "    result = list(filter(lambda word: word not in remove_items, list1))\n",
    "    return result        \n",
    "list_a  = [\"car\", \"place\", \"tree\", \"under\", \"grass\", \"price\"] \n",
    "remove_items = ['car','place','grass']\n",
    "print(remove_words(list_a, remove_items))"
   ]
  },
  {
   "cell_type": "code",
   "execution_count": 10,
   "id": "e374cf30",
   "metadata": {},
   "outputs": [
    {
     "name": "stdout",
     "output_type": "stream",
     "text": [
      "Enter the number :10\n",
      "Enter the index : 10\n",
      "The index 10 is incorrect and index should lie between -5 and 4.\n"
     ]
    }
   ],
   "source": [
    "# Question 7\n",
    "try:\n",
    "    list_a=[1, 2, 3, 4, 5]\n",
    "    number=int(input(\"Enter the number :\"))\n",
    "    print(\"Enter the index :\",number)\n",
    "    if number >9:\n",
    "        print(\"The index 10 is incorrect and index should lie between -5 and 4.\")\n",
    "except IndexError:\n",
    "    print(\"No Index Error\")\n",
    "except ValueError:\n",
    "    print(\"Use an Integer value as the input.\")\n",
    "    "
   ]
  },
  {
   "cell_type": "code",
   "execution_count": 16,
   "id": "08fd9550",
   "metadata": {},
   "outputs": [
    {
     "name": "stdout",
     "output_type": "stream",
     "text": [
      "Enter the number :abc\n",
      "Use an Integer value as the input.\n"
     ]
    }
   ],
   "source": [
    "try:\n",
    "    list_a=[1, 2, 3, 4, 5]\n",
    "    Entertheindex=int(input(\"Enter the number :\"))\n",
    "    print(\"Enter the index :\",Entertheindex)\n",
    "except IndexError:\n",
    "    print(\"The index 10 is incorrect and index should lie between -5 and 4.\")\n",
    "except ValueError:\n",
    "    print(\"Use an Integer value as the input.\")\n",
    "else:\n",
    "    print(\"No Error\")\n",
    "    "
   ]
  },
  {
   "cell_type": "code",
   "execution_count": null,
   "id": "823d4924",
   "metadata": {},
   "outputs": [],
   "source": []
  }
 ],
 "metadata": {
  "kernelspec": {
   "display_name": "Python 3 (ipykernel)",
   "language": "python",
   "name": "python3"
  },
  "language_info": {
   "codemirror_mode": {
    "name": "ipython",
    "version": 3
   },
   "file_extension": ".py",
   "mimetype": "text/x-python",
   "name": "python",
   "nbconvert_exporter": "python",
   "pygments_lexer": "ipython3",
   "version": "3.9.12"
  }
 },
 "nbformat": 4,
 "nbformat_minor": 5
}
